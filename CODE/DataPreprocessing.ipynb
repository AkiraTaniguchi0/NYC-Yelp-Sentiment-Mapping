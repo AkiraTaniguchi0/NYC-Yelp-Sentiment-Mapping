{
 "cells": [
  {
   "cell_type": "code",
   "execution_count": 36,
   "id": "fb4fb1b7",
   "metadata": {},
   "outputs": [],
   "source": [
    "import pandas as pd\n",
    "import nltk\n",
    "import re\n",
    "import contractions\n",
    "import time"
   ]
  },
  {
   "cell_type": "code",
   "execution_count": 37,
   "id": "d487095f",
   "metadata": {},
   "outputs": [],
   "source": [
    "from nltk.corpus import stopwords\n",
    "from nltk.tokenize import word_tokenize\n",
    "from nltk.tokenize import RegexpTokenizer"
   ]
  },
  {
   "cell_type": "code",
   "execution_count": 38,
   "id": "6008fd80",
   "metadata": {},
   "outputs": [],
   "source": [
    "def contract(text):\n",
    "    expanded_words = []    \n",
    "    for word in text.split():\n",
    "      expanded_words.append(contractions.fix(word))   \n",
    "    expanded_text = ' '.join(expanded_words)\n",
    "    return expanded_text"
   ]
  },
  {
   "cell_type": "code",
   "execution_count": 39,
   "id": "ad46d1ee",
   "metadata": {},
   "outputs": [],
   "source": [
    "#removed certain words from \"english\" stopwords list\n",
    "stopwords = nltk.corpus.stopwords.words(\"english\")\n",
    "stopwords = stopwords[:142] \n",
    "del stopwords[116:119] #removed no, nor,not\n",
    "add_words = ['came','come','sunday','monday','tuesday','wednesday','thursday','friday','saturday',\n",
    "             'morning','afternoon','night','am','pm',\n",
    "             'one','two','three','four','five','six','seven','eight','nine','ten','eleven','twelve',\n",
    "             'min','mins','minute','minutes']\n",
    "stopwords = stopwords + add_words"
   ]
  },
  {
   "cell_type": "code",
   "execution_count": 40,
   "id": "18b00db4",
   "metadata": {},
   "outputs": [],
   "source": [
    "def preprocess(text):\n",
    "    text = re.sub(r\"&apos;\", \"'\", text)\n",
    "    text = re.sub(r\"&quot;\", \"\", text)\n",
    "    text = re.sub(r\"&amp;\", \"\", text)\n",
    "    text = re.sub('[0-9]+', '', text)\n",
    "    text = re.sub(r\"happy hour\", \"\", text)\n",
    "    text = contract(text)\n",
    "    tokenizer = RegexpTokenizer(r'\\w+')\n",
    "    text = tokenizer.tokenize(text)\n",
    "    text = [token.lower() for token in text]\n",
    "    filtered_sentence = [w for w in text if not w.lower() in stopwords] #list of words\n",
    "    filtered_sentence = ' '.join(filtered_sentence) #one string\n",
    "    return filtered_sentence"
   ]
  },
  {
   "cell_type": "code",
   "execution_count": 41,
   "id": "2b4f6d40",
   "metadata": {
    "scrolled": true
   },
   "outputs": [],
   "source": [
    "df = pd.read_csv('reviews.csv')"
   ]
  },
  {
   "cell_type": "code",
   "execution_count": 42,
   "id": "33180251",
   "metadata": {
    "scrolled": true
   },
   "outputs": [
    {
     "name": "stdout",
     "output_type": "stream",
     "text": [
      "97.5 ms ± 774 µs per loop (mean ± std. dev. of 7 runs, 10 loops each)\n"
     ]
    }
   ],
   "source": [
    "%%timeit\n",
    "df['clean_text'] = [preprocess(df['text'][i]) for i in range(len(df))]"
   ]
  },
  {
   "cell_type": "code",
   "execution_count": 43,
   "id": "fb800774",
   "metadata": {},
   "outputs": [],
   "source": [
    "df = df.drop('text', axis=1)"
   ]
  },
  {
   "cell_type": "code",
   "execution_count": 44,
   "id": "2738bd1e",
   "metadata": {},
   "outputs": [],
   "source": [
    "file_name = 'cleaned_reviews.csv'\n",
    "df.to_csv(file_name, encoding='utf-8',index=False)"
   ]
  },
  {
   "cell_type": "raw",
   "id": "f6dc813c",
   "metadata": {},
   "source": [
    "n=0\n",
    "for i in range(len(df['clean_text'])):\n",
    "    if len(df['clean_text'][i])>512:\n",
    "        n+=1\n",
    "        print(f\"{i} has length of {len(df['clean_text'][i])}\")\n",
    "print(f\"{n} total entries are longer than 512 characters\")"
   ]
  },
  {
   "cell_type": "raw",
   "id": "c3fe6dce",
   "metadata": {},
   "source": [
    "test = preprocess(df['text'][0])\n",
    "test"
   ]
  }
 ],
 "metadata": {
  "kernelspec": {
   "display_name": "Python 3 (ipykernel)",
   "language": "python",
   "name": "python3"
  },
  "language_info": {
   "codemirror_mode": {
    "name": "ipython",
    "version": 3
   },
   "file_extension": ".py",
   "mimetype": "text/x-python",
   "name": "python",
   "nbconvert_exporter": "python",
   "pygments_lexer": "ipython3",
   "version": "3.10.12"
  }
 },
 "nbformat": 4,
 "nbformat_minor": 5
}
